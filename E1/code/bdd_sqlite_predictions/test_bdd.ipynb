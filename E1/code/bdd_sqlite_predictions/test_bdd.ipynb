{
 "cells": [
  {
   "cell_type": "code",
   "execution_count": 1,
   "metadata": {},
   "outputs": [],
   "source": [
    "import sqlite3\n",
    "\n",
    "conn = sqlite3.connect(\"predictions.db\")\n",
    "cursor = conn.cursor()"
   ]
  },
  {
   "cell_type": "code",
   "execution_count": null,
   "metadata": {},
   "outputs": [],
   "source": [
    "#------------------------------------------------------------\n",
    "#        Script MySQL.\n",
    "#------------------------------------------------------------\n",
    "\n",
    "\n",
    "#------------------------------------------------------------\n",
    "# Table: user\n",
    "#------------------------------------------------------------\n",
    "\n",
    "CREATE TABLE user(\n",
    "        id_user      Int  Auto_increment  NOT NULL ,\n",
    "        nom          Varchar (50) NOT NULL ,\n",
    "        identifiant  Varchar (50) NOT NULL ,\n",
    "        mot_de_passe Varchar (50) NOT NULL\n",
    "\t,CONSTRAINT user_PK PRIMARY KEY (id_user)\n",
    ")ENGINE=InnoDB;\n",
    "\n",
    "\n",
    "#------------------------------------------------------------\n",
    "# Table: questionnaire\n",
    "#------------------------------------------------------------\n",
    "\n",
    "CREATE TABLE questionnaire(\n",
    "        id_questionnaire          Int  Auto_increment  NOT NULL ,\n",
    "        Age                       Int NOT NULL ,\n",
    "        Gender                    Varchar (50) NOT NULL ,\n",
    "        self_employed             Varchar (50) NOT NULL ,\n",
    "        family_history            Varchar (50) NOT NULL ,\n",
    "        work_interfere            Varchar (50) NOT NULL ,\n",
    "        no_employees              Varchar (50) NOT NULL ,\n",
    "        remote_work               Varchar (50) NOT NULL ,\n",
    "        tech_company              Varchar (50) NOT NULL ,\n",
    "        benefits                  Varchar (50) NOT NULL ,\n",
    "        care_options              Varchar (50) NOT NULL ,\n",
    "        wellness_program          Varchar (50) NOT NULL ,\n",
    "        seek_help                 Varchar (50) NOT NULL ,\n",
    "        anonymity                 Varchar (50) NOT NULL ,\n",
    "        leave                     Varchar (50) NOT NULL ,\n",
    "        mental_health_consequence Varchar (50) NOT NULL ,\n",
    "        phys_health_consequence   Varchar (50) NOT NULL ,\n",
    "        coworkers                 Varchar (50) NOT NULL ,\n",
    "        supervisor                Varchar (50) NOT NULL ,\n",
    "        mental_health_interview   Varchar (50) NOT NULL ,\n",
    "        phys_health_interview     Varchar (50) NOT NULL ,\n",
    "        mental_vs_physical        Varchar (50) NOT NULL ,\n",
    "        obs_consequence           Varchar (50) NOT NULL ,\n",
    "        reponse                   Varchar (50) NOT NULL ,\n",
    "        id_user                   Int NOT NULL\n",
    "\t,CONSTRAINT questionnaire_PK PRIMARY KEY (id_questionnaire)\n",
    "\n",
    "\t,CONSTRAINT questionnaire_user_FK FOREIGN KEY (id_user) REFERENCES user(id_user)\n",
    ")ENGINE=InnoDB;"
   ]
  },
  {
   "cell_type": "markdown",
   "metadata": {},
   "source": [
    "Création table user"
   ]
  },
  {
   "cell_type": "code",
   "execution_count": 5,
   "metadata": {},
   "outputs": [],
   "source": [
    "request2 = \"\"\"CREATE TABLE user(\n",
    "        id_user      integer primary key ,\n",
    "        nom          Varchar (50) NOT NULL ,\n",
    "        identifiant  Varchar (50) NOT NULL ,\n",
    "        mot_de_passe Varchar (50) NOT NULL\n",
    ")\"\"\"\n",
    "cursor.execute(request2)\n",
    "conn.commit()\n",
    "\n",
    "request2= \"\"\"INSERT INTO user (nom, identifiant, mot_de_passe) VALUES (\"Peter parker\", \"pparker\", \"abc123\");\n",
    "\"\"\"\n",
    "cursor.execute(request2)\n",
    "request2= \"\"\"INSERT INTO user (nom, identifiant, mot_de_passe) VALUES (\"Rebecca Miller\", \"rmiller\", \"def456\");\n",
    "\"\"\"\n",
    "cursor.execute(request2)\n",
    "conn.commit()\n"
   ]
  },
  {
   "cell_type": "markdown",
   "metadata": {},
   "source": [
    "Création table questionnaire"
   ]
  },
  {
   "cell_type": "code",
   "execution_count": 6,
   "metadata": {},
   "outputs": [],
   "source": [
    "request2 = \"\"\"CREATE TABLE questionnaire(\n",
    "        id_questionnaire          integer  primary key ,\n",
    "        Age                       Int NOT NULL ,\n",
    "        Gender                    Varchar (50) NOT NULL ,\n",
    "        self_employed             Varchar (50) NOT NULL ,\n",
    "        family_history            Varchar (50) NOT NULL ,\n",
    "        work_interfere            Varchar (50) NOT NULL ,\n",
    "        no_employees              Varchar (50) NOT NULL ,\n",
    "        remote_work               Varchar (50) NOT NULL ,\n",
    "        tech_company              Varchar (50) NOT NULL ,\n",
    "        benefits                  Varchar (50) NOT NULL ,\n",
    "        care_options              Varchar (50) NOT NULL ,\n",
    "        wellness_program          Varchar (50) NOT NULL ,\n",
    "        seek_help                 Varchar (50) NOT NULL ,\n",
    "        anonymity                 Varchar (50) NOT NULL ,\n",
    "        leave                     Varchar (50) NOT NULL ,\n",
    "        mental_health_consequence Varchar (50) NOT NULL ,\n",
    "        phys_health_consequence   Varchar (50) NOT NULL ,\n",
    "        coworkers                 Varchar (50) NOT NULL ,\n",
    "        supervisor                Varchar (50) NOT NULL ,\n",
    "        mental_health_interview   Varchar (50) NOT NULL ,\n",
    "        phys_health_interview     Varchar (50) NOT NULL ,\n",
    "        mental_vs_physical        Varchar (50) NOT NULL ,\n",
    "        obs_consequence           Varchar (50) NOT NULL ,\n",
    "        reponse                   Varchar (50) NOT NULL ,\n",
    "        id_user                   Int NOT NULL,\n",
    "        FOREIGN KEY (id_user) REFERENCES reponse_questionnaire (id_reponse)\n",
    ")\"\"\"\n",
    "cursor.execute(request2)\n",
    "conn.commit()"
   ]
  },
  {
   "cell_type": "markdown",
   "metadata": {},
   "source": [
    "Réponses : \"Besoin d'un traitement\"\n",
    "\n",
    "\"Pas besoin d'un traitement\""
   ]
  },
  {
   "cell_type": "code",
   "execution_count": 7,
   "metadata": {},
   "outputs": [],
   "source": [
    "dict_example = {\n",
    "    \"Age\" : 25,\n",
    "    \"Gender\" : \"Homme\",\n",
    "    \"self_employed\" : \"Oui\",\n",
    "    \"family_history\" : \"Oui\",\n",
    "    \"work_interfere\" : \"Souvent\",\n",
    "    \"no_employees\" : '1-5',\n",
    "    \"remote_work\" : \"Oui\",\n",
    "    \"tech_company\" : \"Oui\",\n",
    "    \"benefits\" : \"Oui\",\n",
    "    \"care_options\" : \"Oui\",\n",
    "    \"wellness_program\" : \"Oui\",\n",
    "    \"seek_help\" : \"Oui\",\n",
    "    \"anonymity\" : \"Oui\",\n",
    "    \"leave\" : \"Très facilement\",\n",
    "    \"mental_health_consequence\" : \"Oui\",\n",
    "    \"phys_health_consequence\" : \"Oui\",\n",
    "    \"coworkers\" : \"Oui\",\n",
    "    \"supervisor\" : \"Oui\",\n",
    "    \"mental_health_interview\" : \"Oui\",\n",
    "    \"phys_health_interview\" : \"Oui\",\n",
    "    \"mental_vs_physical\" : \"Oui\",\n",
    "    \"obs_consequence\" : \"Oui\",\n",
    "    \"reponse\" : \"Besoin d'un traitement\",\n",
    "    \"id_user\" : 1\n",
    "}\n",
    "\n",
    "request = \"\"\"INSERT INTO questionnaire ('Age', Gender, self_employed, family_history, work_interfere, no_employees, remote_work, tech_company, benefits, care_options, wellness_program, seek_help, anonymity, leave, mental_health_consequence, phys_health_consequence, coworkers, supervisor, mental_health_interview, phys_health_interview, mental_vs_physical, obs_consequence, reponse, id_user)\n",
    "VALUES (25, 'Homme', 'Oui', 'Oui', 'Souvent', '1-5', 'Oui', 'Oui', 'Oui', 'Oui', 'Oui', 'Oui', 'Oui', 'Très facilement', 'Oui', 'Oui', 'Oui', 'Oui', 'Oui', 'Oui', 'Oui', 'Oui', \"Besoin d'un traitement\", 1)\"\"\"\n",
    "cursor.execute(request)\n",
    "conn.commit()"
   ]
  },
  {
   "cell_type": "code",
   "execution_count": 16,
   "metadata": {},
   "outputs": [
    {
     "data": {
      "text/plain": [
       "2"
      ]
     },
     "execution_count": 16,
     "metadata": {},
     "output_type": "execute_result"
    }
   ],
   "source": [
    "iden = \"rmiller\"\n",
    "request = f\"\"\"select id_user from user where identifiant=\"{iden}\";\"\"\"\n",
    "cursor.execute(request)\n",
    "id_user = cursor.fetchall()[0][0]\n",
    "# id_user = "
   ]
  },
  {
   "cell_type": "code",
   "execution_count": null,
   "metadata": {},
   "outputs": [],
   "source": [
    "tuple(dict_example.values())"
   ]
  },
  {
   "cell_type": "code",
   "execution_count": null,
   "metadata": {},
   "outputs": [],
   "source": [
    "tuple(dict_example.keys())"
   ]
  },
  {
   "cell_type": "code",
   "execution_count": null,
   "metadata": {},
   "outputs": [],
   "source": [
    "# request = f\"\"\"DELETE FROM questionnaire\n",
    "# WHERE id_questionnaire = 3\"\"\"\n",
    "# cursor.execute(request)\n",
    "# conn.commit()"
   ]
  },
  {
   "cell_type": "code",
   "execution_count": null,
   "metadata": {},
   "outputs": [],
   "source": [
    "\n",
    "conn = sqlite3.connect(\"predictions.db\")\n",
    "cursor = conn.cursor()\n",
    "request = f\"\"\"INSERT INTO questionnaire {tuple(dict_example.keys())}\n",
    "VALUES {tuple(dict_example.values())}\"\"\"\n",
    "cursor.execute(request)\n",
    "conn.commit()\n",
    "conn.close()"
   ]
  },
  {
   "cell_type": "code",
   "execution_count": null,
   "metadata": {},
   "outputs": [],
   "source": [
    "dict_example.values()"
   ]
  }
 ],
 "metadata": {
  "kernelspec": {
   "display_name": "venv",
   "language": "python",
   "name": "python3"
  },
  "language_info": {
   "codemirror_mode": {
    "name": "ipython",
    "version": 3
   },
   "file_extension": ".py",
   "mimetype": "text/x-python",
   "name": "python",
   "nbconvert_exporter": "python",
   "pygments_lexer": "ipython3",
   "version": "3.10.7"
  }
 },
 "nbformat": 4,
 "nbformat_minor": 2
}
