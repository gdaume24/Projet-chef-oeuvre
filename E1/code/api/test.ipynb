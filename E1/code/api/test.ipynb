{
 "cells": [
  {
   "cell_type": "code",
   "execution_count": 6,
   "metadata": {},
   "outputs": [
    {
     "name": "stdout",
     "output_type": "stream",
     "text": [
      "[]\n"
     ]
    }
   ],
   "source": [
    "import os\n",
    "try:\n",
    "    user_paths = os.environ['PYTHONPATH'].split(os.pathsep)\n",
    "except KeyError:\n",
    "    user_paths = []\n",
    "print(user_paths)"
   ]
  },
  {
   "cell_type": "code",
   "execution_count": 4,
   "metadata": {},
   "outputs": [],
   "source": [
    "import sqlite3\n",
    "\n",
    "dict_example = {\n",
    "    \"Age\" : 25,\n",
    "    \"Gender\" : \"Homme\",\n",
    "    \"self_employed\" : \"Oui\",\n",
    "    \"family_history\" : \"Oui\",\n",
    "    \"work_interfere\" : \"Souvent\",\n",
    "    \"no_employees\" : '1-5',\n",
    "    \"remote_work\" : \"Oui\",\n",
    "    \"tech_company\" : \"Oui\",\n",
    "    \"benefits\" : \"Oui\",\n",
    "    \"care_options\" : \"Oui\",\n",
    "    \"wellness_program\" : \"Oui\",\n",
    "    \"seek_help\" : \"Oui\",\n",
    "    \"anonymity\" : \"Oui\",\n",
    "    \"leave\" : \"Très facilement\",\n",
    "    \"mental_health_consequence\" : \"Oui\",\n",
    "    \"phys_health_consequence\" : \"Oui\",\n",
    "    \"coworkers\" : \"Oui\",\n",
    "    \"supervisor\" : \"Oui\",\n",
    "    \"mental_health_interview\" : \"Oui\",\n",
    "    \"phys_health_interview\" : \"Oui\",\n",
    "    \"mental_vs_physical\" : \"Oui\",\n",
    "    \"obs_consequence\" : \"Oui\",\n",
    "    \"id_reponse\" : 1\n",
    "}\n",
    "\n",
    "conn = sqlite3.connect(\"../bdd_sqlite_predictions/predictions.db\")\n",
    "cursor = conn.cursor()\n",
    "request = f\"\"\"INSERT INTO questionnaire {tuple(dict_example.keys())}\n",
    "VALUES {tuple(dict_example.values())}\"\"\"\n",
    "cursor.execute(request)\n",
    "conn.commit()\n",
    "conn.close()"
   ]
  },
  {
   "cell_type": "code",
   "execution_count": 11,
   "metadata": {},
   "outputs": [],
   "source": [
    "conn.close()"
   ]
  },
  {
   "cell_type": "code",
   "execution_count": 1,
   "metadata": {},
   "outputs": [
    {
     "name": "stdout",
     "output_type": "stream",
     "text": [
      "('Age', 'Gender', 'self_employed', 'family_history', 'work_interfere', 'no_employees', 'remote_work', 'tech_company', 'benefits', 'care_options', 'wellness_program', 'seek_help', 'anonymity', 'leave', 'mental_health_consequence', 'phys_health_consequence', 'coworkers', 'supervisor', 'mental_health_interview', 'phys_health_interview', 'mental_vs_physical', 'obs_consequence', 'id_reponse')\n"
     ]
    }
   ],
   "source": [
    "from translation import translate\n",
    "from pydantic import BaseModel\n",
    "import pickle\n",
    "import sqlite3\n",
    "import pandas as pd\n",
    "\n",
    "def charger_model():\n",
    "    model_path = r\"pipeline_logisticregression0.83f1.pkl\"\n",
    "    model = pickle.load(open(model_path, \"rb\"))\n",
    "    return model\n",
    "\n",
    "model = charger_model()\n",
    "\n",
    "dict_example = {\n",
    "    \"Age\" : 25,\n",
    "    \"Gender\" : \"Homme\",\n",
    "    \"self_employed\" : \"Oui\",\n",
    "    \"family_history\" : \"Oui\",\n",
    "    \"work_interfere\" : \"Souvent\",\n",
    "    \"no_employees\" : '1-5',\n",
    "    \"remote_work\" : \"Oui\",\n",
    "    \"tech_company\" : \"Oui\",\n",
    "    \"benefits\" : \"Oui\",\n",
    "    \"care_options\" : \"Oui\",\n",
    "    \"wellness_program\" : \"Oui\",\n",
    "    \"seek_help\" : \"Oui\",\n",
    "    \"anonymity\" : \"Oui\",\n",
    "    \"leave\" : \"Très facilement\",\n",
    "    \"mental_health_consequence\" : \"Oui\",\n",
    "    \"phys_health_consequence\" : \"Oui\",\n",
    "    \"coworkers\" : \"Oui\",\n",
    "    \"supervisor\" : \"Oui\",\n",
    "    \"mental_health_interview\" : \"Oui\",\n",
    "    \"phys_health_interview\" : \"Oui\",\n",
    "    \"mental_vs_physical\" : \"Oui\",\n",
    "    \"obs_consequence\" : \"Oui\"\n",
    "}\n",
    "\n",
    "class Issick(BaseModel):\n",
    "    Age : int\n",
    "    Gender : str\n",
    "    self_employed : str\n",
    "    family_history : str\n",
    "    work_interfere : str\n",
    "    no_employees : str\n",
    "    remote_work : str\n",
    "    tech_company : str\n",
    "    benefits : str\n",
    "    care_options : str\n",
    "    wellness_program : str\n",
    "    seek_help : str\n",
    "    anonymity : str\n",
    "    leave : str\n",
    "    mental_health_consequence : str\n",
    "    phys_health_consequence : str\n",
    "    coworkers : str\n",
    "    supervisor : str\n",
    "    mental_health_interview : str\n",
    "    phys_health_interview : str\n",
    "    mental_vs_physical : str\n",
    "    obs_consequence : str\n",
    "\n",
    "def predict(input_data: Issick):\n",
    "    dict_pred_fr = dict(input_data)\n",
    "\n",
    "    # Traduction du dictionnaire en anglais pour la prédiction\n",
    "    dict_pred_en = dict_pred_fr.copy()\n",
    "    for key, value in dict_pred_en.items():\n",
    "        value = translate(value)\n",
    "        dict_pred_en[key] = value\n",
    "\n",
    "    # Prédiction\n",
    "    input_df = pd.DataFrame(dict_pred_en, index=[0])\n",
    "    prediction = model.predict(input_df)[0]\n",
    "\n",
    "    # Insertion des données en base sqlite\n",
    "    # Complétion du dictionnaire avec le résultat\n",
    "    if prediction == \"Yes\":\n",
    "        id_reponse = 1\n",
    "    elif prediction == \"No\":\n",
    "        id_reponse = 2\n",
    "\n",
    "    dict_pred_fr[\"id_reponse\"] = id_reponse\n",
    "\n",
    "    # Entrée du questionnaire complet en base\n",
    "    conn = sqlite3.connect(\"../bdd_sqlite_predictions/predictions.db\")\n",
    "    cursor = conn.cursor()\n",
    "    print(tuple(dict_pred_fr.keys()))\n",
    "    request = f\"\"\"INSERT INTO questionnaire {tuple(dict_pred_fr.keys())}\n",
    "    VALUES {tuple(dict_pred_fr.values())}\"\"\"\n",
    "    cursor.execute(request)\n",
    "    conn.commit()\n",
    "    conn.close()\n",
    "\n",
    "predict(dict_example)"
   ]
  },
  {
   "cell_type": "code",
   "execution_count": 2,
   "metadata": {},
   "outputs": [
    {
     "name": "stdout",
     "output_type": "stream",
     "text": [
      "{'prediction': 'Yes'}\n"
     ]
    }
   ],
   "source": [
    "def predict(input_data: Issick):\n",
    "    dict_pred_fr = dict(input_data)\n",
    "\n",
    "    # Traduction du dictionnaire en anglais pour la prédiction\n",
    "    dict_pred_en = dict_pred_fr.copy()\n",
    "    for key, value in dict_pred_en.items():\n",
    "        value = translate(value)\n",
    "        dict_pred_en[key] = value\n",
    "\n",
    "    # Prédiction\n",
    "    input_df = pd.DataFrame(dict_pred_en, index=[0])\n",
    "    prediction = model.predict(input_df)[0]\n",
    "\n",
    "    # Insertion des données en base sqlite\n",
    "    # Complétion du dictionnaire avec le résultat\n",
    "    if prediction == \"Yes\":\n",
    "        id_reponse = 1\n",
    "    elif prediction == \"No\":\n",
    "        id_reponse = 2\n",
    "\n",
    "    dict_pred_fr[\"id_reponse\"] = id_reponse\n",
    "\n",
    "    # Entrée du questionnaire complet en base\n",
    "    conn = sqlite3.connect(\"/home/geoffroy/Projets/Rendus_Ecole_Simplon/PCO/E1/code/bdd_sqlite_predictions/predictions.db\")\n",
    "    cursor = conn.cursor()\n",
    "    request = f\"\"\"INSERT INTO questionnaire {tuple(dict_pred_fr.keys())}\n",
    "    VALUES {tuple(dict_pred_fr.values())}\"\"\"\n",
    "    cursor.execute(request)\n",
    "    conn.commit()\n",
    "    conn.close()\n",
    "\n",
    "    return {\"prediction\" : prediction}\n",
    "\n",
    "print(predict(dict_example))"
   ]
  },
  {
   "cell_type": "code",
   "execution_count": null,
   "metadata": {},
   "outputs": [],
   "source": []
  },
  {
   "cell_type": "code",
   "execution_count": null,
   "metadata": {},
   "outputs": [],
   "source": []
  }
 ],
 "metadata": {
  "kernelspec": {
   "display_name": "venv_api",
   "language": "python",
   "name": "python3"
  },
  "language_info": {
   "codemirror_mode": {
    "name": "ipython",
    "version": 3
   },
   "file_extension": ".py",
   "mimetype": "text/x-python",
   "name": "python",
   "nbconvert_exporter": "python",
   "pygments_lexer": "ipython3",
   "version": "3.11.2"
  }
 },
 "nbformat": 4,
 "nbformat_minor": 2
}
