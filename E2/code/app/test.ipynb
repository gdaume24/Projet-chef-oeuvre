{
 "cells": [
  {
   "cell_type": "code",
   "execution_count": null,
   "metadata": {},
   "outputs": [],
   "source": [
    "import tensorflow as tf\n",
    "import traceback\n",
    "import numpy as np\n",
    "import json\n",
    "import os\n",
    "import PIL\n",
    "from fonctions.back.load_models import load_models\n",
    "\n",
    "model_gauche, model_droit, model_gauche_droit, labelenc_gauche, labelenc_droit, labelenc_gauche_droit = load_models(r\"D:\\Documents\\Ecole\\Rendus_Ecole_Simplon\\PCO\\reconnaissance_iris\\code\\modeles\\nouvelle_data_aug\")\n",
    "\n",
    "json_path = r\"D:\\Documents\\Ecole\\Rendus_Ecole_Simplon\\PCO\\reconnaissance_iris\\code\\data\\employees_info.json\"\n",
    "file_path = r\"D:\\Documents\\Ecole\\Rendus_Ecole_Simplon\\PCO\\reconnaissance_iris\\code\\data\\train_val_test_data\\2\\right\\train\\bryanr3.bmp\"\n",
    "with open(json_path, \"r\", encoding=\"utf-8\") as f:\n",
    "        info_employes = json.load(f)"
   ]
  },
  {
   "cell_type": "code",
   "execution_count": null,
   "metadata": {},
   "outputs": [],
   "source": [
    "# Prediction\n",
    "image_pour_pred = PIL.Image.open(file_path)\n",
    "image_pour_pred = np.array(image_pour_pred)\n",
    "image_pour_pred = np.expand_dims(image_pour_pred, axis=0)\n",
    "\n",
    "cote_oeil = model_gauche_droit.predict(image_pour_pred.ravel())\n",
    "cote_oeil = np.argmax(cote_oeil)\n",
    "cote_oeil = cote_oeil.reshape(-1, 1)\n",
    "cote_oeil = labelenc_gauche_droit.inverse_transform(cote_oeil)\n",
    "\n",
    "if cote_oeil == \"left\":\n",
    "    id_salarie = model_gauche.predict(image_pour_pred.values.ravel())\n",
    "    id_salarie = np.argmax(cote_oeil)\n",
    "    id_salarie = id_salarie.reshape(-1, 1)\n",
    "    id_salarie = labelenc_gauche.inverse_transform(id_salarie)\n",
    "\n",
    "elif cote_oeil == \"right\":\n",
    "    id_salarie = model_droit.predict(image_pour_pred.values.ravel())\n",
    "    id_salarie = np.argmax(cote_oeil)\n",
    "    id_salarie = id_salarie.reshape(-1, 1)\n",
    "    id_salarie = labelenc_droit.inverse_transform(id_salarie)\n",
    "\n",
    "print(\"nanani nininin\")\n",
    "employe_info = info_employes[str(id_salarie[0])]\n",
    "formatted_info = \"\\n\".join([f\"{key} : {value}\" for key, value in employe_info.items()])\n",
    "print(formatted_info)"
   ]
  },
  {
   "cell_type": "code",
   "execution_count": 34,
   "metadata": {},
   "outputs": [
    {
     "name": "stdout",
     "output_type": "stream",
     "text": [
      "1/1 [==============================] - 0s 122ms/step\n",
      "right\n"
     ]
    },
    {
     "name": "stderr",
     "output_type": "stream",
     "text": [
      "d:\\Documents\\Ecole\\Rendus_Ecole_Simplon\\PCO\\reconnaissance_iris\\code\\venv\\lib\\site-packages\\sklearn\\preprocessing\\_label.py:155: DataConversionWarning: A column-vector y was passed when a 1d array was expected. Please change the shape of y to (n_samples, ), for example using ravel().\n",
      "  y = column_or_1d(y, warn=True)\n"
     ]
    }
   ],
   "source": [
    "cote = np.argmax(model_gauche_droit.predict(image_pour_pred))\n",
    "cote = cote.reshape(-1, 1)\n",
    "cote = labelenc_gauche_droit.inverse_transform(cote)\n",
    "print(cote[0])"
   ]
  },
  {
   "cell_type": "code",
   "execution_count": null,
   "metadata": {},
   "outputs": [],
   "source": [
    "model_gauche_droit.summary()"
   ]
  },
  {
   "cell_type": "code",
   "execution_count": null,
   "metadata": {},
   "outputs": [],
   "source": []
  },
  {
   "cell_type": "code",
   "execution_count": null,
   "metadata": {},
   "outputs": [],
   "source": []
  },
  {
   "cell_type": "code",
   "execution_count": null,
   "metadata": {},
   "outputs": [],
   "source": []
  }
 ],
 "metadata": {
  "kernelspec": {
   "display_name": "venv",
   "language": "python",
   "name": "python3"
  },
  "language_info": {
   "codemirror_mode": {
    "name": "ipython",
    "version": 3
   },
   "file_extension": ".py",
   "mimetype": "text/x-python",
   "name": "python",
   "nbconvert_exporter": "python",
   "pygments_lexer": "ipython3",
   "version": "3.10.7"
  }
 },
 "nbformat": 4,
 "nbformat_minor": 2
}
